{
 "cells": [
  {
   "cell_type": "code",
   "execution_count": 1,
   "metadata": {},
   "outputs": [],
   "source": [
    "from GQLib.Framework import Framework\n",
    "from GQLib.Optimizers import MPGA, PSO, SA, SGA, FA\n",
    "from GQLib.Models import LPPL, LPPLS\n",
    "from datetime import datetime\n",
    "import numpy as np\n",
    "import matplotlib.pyplot as plt\n",
    "import matplotlib.dates as mdates\n",
    "import pandas as pd"
   ]
  },
  {
   "cell_type": "markdown",
   "metadata": {},
   "source": [
    "# PSO"
   ]
  },
  {
   "cell_type": "code",
   "execution_count": 2,
   "metadata": {},
   "outputs": [
    {
     "name": "stderr",
     "output_type": "stream",
     "text": [
      "Processing subintervals:   0%|          | 0/90 [00:05<?, ?subinterval/s]\n"
     ]
    },
    {
     "ename": "IndexError",
     "evalue": "index 4 is out of bounds for axis 0 with size 4",
     "output_type": "error",
     "traceback": [
      "\u001b[1;31m---------------------------------------------------------------------------\u001b[0m",
      "\u001b[1;31mIndexError\u001b[0m                                Traceback (most recent call last)",
      "Cell \u001b[1;32mIn[2], line 4\u001b[0m\n\u001b[0;32m      2\u001b[0m \u001b[38;5;66;03m# On renseigne les dates du sample et l'optimiseur à utiliser\u001b[39;00m\n\u001b[0;32m      3\u001b[0m optimizer \u001b[38;5;241m=\u001b[39m FA()\n\u001b[1;32m----> 4\u001b[0m results \u001b[38;5;241m=\u001b[39m \u001b[43mfw\u001b[49m\u001b[38;5;241;43m.\u001b[39;49m\u001b[43mprocess\u001b[49m\u001b[43m(\u001b[49m\u001b[38;5;124;43m\"\u001b[39;49m\u001b[38;5;124;43m04/01/2003\u001b[39;49m\u001b[38;5;124;43m\"\u001b[39;49m\u001b[43m,\u001b[49m\u001b[43m \u001b[49m\u001b[38;5;124;43m\"\u001b[39;49m\u001b[38;5;124;43m04/02/2008\u001b[39;49m\u001b[38;5;124;43m\"\u001b[39;49m\u001b[43m,\u001b[49m\u001b[43m \u001b[49m\u001b[43moptimizer\u001b[49m\u001b[38;5;241;43m=\u001b[39;49m\u001b[43m \u001b[49m\u001b[43moptimizer\u001b[49m\u001b[43m)\u001b[49m\n\u001b[0;32m      5\u001b[0m \u001b[38;5;66;03m# On peut save en json nos résultats pour les réutiliser plus tard\u001b[39;00m\n\u001b[0;32m      6\u001b[0m \u001b[38;5;66;03m#fw.save_results(results, \"results/results-2003_2008_try_PSO.json\")\u001b[39;00m\n\u001b[0;32m      7\u001b[0m \u001b[38;5;66;03m# On check la significativité des résultats\u001b[39;00m\n\u001b[0;32m      8\u001b[0m best_results \u001b[38;5;241m=\u001b[39m fw\u001b[38;5;241m.\u001b[39manalyze(results)\n",
      "File \u001b[1;32mc:\\Users\\bapdu\\COMMUN\\Dauphine\\Predicting-Oil-Price-Turning-Points\\GQLib\\Framework.py:123\u001b[0m, in \u001b[0;36mFramework.process\u001b[1;34m(self, time_start, time_end, optimizer)\u001b[0m\n\u001b[0;32m    120\u001b[0m \u001b[38;5;66;03m# Optimize parameters for each subinterval\u001b[39;00m\n\u001b[0;32m    121\u001b[0m \u001b[38;5;28;01mfor\u001b[39;00m (sub_start, sub_end, sub_data) \u001b[38;5;129;01min\u001b[39;00m tqdm(subintervals, desc\u001b[38;5;241m=\u001b[39m\u001b[38;5;124m\"\u001b[39m\u001b[38;5;124mProcessing subintervals\u001b[39m\u001b[38;5;124m\"\u001b[39m, unit\u001b[38;5;241m=\u001b[39m\u001b[38;5;124m\"\u001b[39m\u001b[38;5;124msubinterval\u001b[39m\u001b[38;5;124m\"\u001b[39m):\n\u001b[1;32m--> 123\u001b[0m     bestObjV, bestParams \u001b[38;5;241m=\u001b[39m \u001b[43moptimizer\u001b[49m\u001b[38;5;241;43m.\u001b[39;49m\u001b[43mfit\u001b[49m\u001b[43m(\u001b[49m\u001b[43msub_start\u001b[49m\u001b[43m,\u001b[49m\u001b[43m \u001b[49m\u001b[43msub_end\u001b[49m\u001b[43m,\u001b[49m\u001b[43m \u001b[49m\u001b[43msub_data\u001b[49m\u001b[43m)\u001b[49m\n\u001b[0;32m    124\u001b[0m     results\u001b[38;5;241m.\u001b[39mappend({\n\u001b[0;32m    125\u001b[0m         \u001b[38;5;124m\"\u001b[39m\u001b[38;5;124msub_start\u001b[39m\u001b[38;5;124m\"\u001b[39m: sub_start,\n\u001b[0;32m    126\u001b[0m         \u001b[38;5;124m\"\u001b[39m\u001b[38;5;124msub_end\u001b[39m\u001b[38;5;124m\"\u001b[39m: sub_end,\n\u001b[0;32m    127\u001b[0m         \u001b[38;5;124m\"\u001b[39m\u001b[38;5;124mbestObjV\u001b[39m\u001b[38;5;124m\"\u001b[39m: bestObjV,\n\u001b[0;32m    128\u001b[0m         \u001b[38;5;124m\"\u001b[39m\u001b[38;5;124mbestParams\u001b[39m\u001b[38;5;124m\"\u001b[39m: bestParams\u001b[38;5;241m.\u001b[39mtolist()\n\u001b[0;32m    129\u001b[0m     })\n\u001b[0;32m    130\u001b[0m \u001b[38;5;28;01mreturn\u001b[39;00m results\n",
      "File \u001b[1;32mc:\\Users\\bapdu\\COMMUN\\Dauphine\\Predicting-Oil-Price-Turning-Points\\GQLib\\Optimizers\\FA.py:109\u001b[0m, in \u001b[0;36mFA.fit\u001b[1;34m(self, start, end, data)\u001b[0m\n\u001b[0;32m    107\u001b[0m \u001b[38;5;66;03m# On limite les positions dans la borne\u001b[39;00m\n\u001b[0;32m    108\u001b[0m \u001b[38;5;28;01mfor\u001b[39;00m k \u001b[38;5;129;01min\u001b[39;00m \u001b[38;5;28mrange\u001b[39m(\u001b[38;5;28mlen\u001b[39m(fireflies)):\n\u001b[1;32m--> 109\u001b[0m     lower_bound, upper_bound \u001b[38;5;241m=\u001b[39m \u001b[43mparam_bounds\u001b[49m\u001b[43m[\u001b[49m\u001b[43mk\u001b[49m\u001b[43m]\u001b[49m\n\u001b[0;32m    110\u001b[0m     fireflies[i][k] \u001b[38;5;241m=\u001b[39m \u001b[38;5;28mmax\u001b[39m(lower_bound, \u001b[38;5;28mmin\u001b[39m(fireflies[i][k], upper_bound))\n\u001b[0;32m    111\u001b[0m fitness[i] \u001b[38;5;241m=\u001b[39m \u001b[38;5;28mself\u001b[39m\u001b[38;5;241m.\u001b[39mlppl_model\u001b[38;5;241m.\u001b[39mnumba_RSS(fireflies[i], data)\n",
      "\u001b[1;31mIndexError\u001b[0m: index 4 is out of bounds for axis 0 with size 4"
     ]
    }
   ],
   "source": [
    "fw = Framework(\"daily\", lppl_model = LPPL)\n",
    "# On renseigne les dates du sample et l'optimiseur à utiliser\n",
    "optimizer = FA()\n",
    "results = fw.process(\"04/01/2003\", \"04/02/2008\", optimizer= optimizer)\n",
    "# On peut save en json nos résultats pour les réutiliser plus tard\n",
    "#fw.save_results(results, \"results/results-2003_2008_try_PSO.json\")\n",
    "# On check la significativité des résultats\n",
    "best_results = fw.analyze(results)\n",
    "# On peut visualiser les résultats finaux\n",
    "fw.visualize(best_results)\n"
   ]
  },
  {
   "cell_type": "markdown",
   "metadata": {},
   "source": []
  }
 ],
 "metadata": {
  "kernelspec": {
   "display_name": "base",
   "language": "python",
   "name": "python3"
  },
  "language_info": {
   "codemirror_mode": {
    "name": "ipython",
    "version": 3
   },
   "file_extension": ".py",
   "mimetype": "text/x-python",
   "name": "python",
   "nbconvert_exporter": "python",
   "pygments_lexer": "ipython3",
   "version": "3.12.3"
  }
 },
 "nbformat": 4,
 "nbformat_minor": 2
}
