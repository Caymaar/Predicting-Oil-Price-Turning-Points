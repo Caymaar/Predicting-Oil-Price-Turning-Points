{
 "cells": [
  {
   "cell_type": "code",
   "execution_count": 1,
   "metadata": {},
   "outputs": [],
   "source": [
    "from GQLib.Framework import Framework\n",
    "from GQLib.Optimizers import MPGA, PSO, SA, SGA\n",
    "from datetime import datetime"
   ]
  },
  {
   "cell_type": "markdown",
   "metadata": {},
   "source": [
    "# DAILY"
   ]
  },
  {
   "cell_type": "markdown",
   "metadata": {},
   "source": [
    "## Run full process for all Optimizers and all dates"
   ]
  },
  {
   "cell_type": "code",
   "execution_count": null,
   "metadata": {},
   "outputs": [],
   "source": [
    "freq = \"daily\"\n",
    "\n",
    "fw = Framework(freq)\n",
    "optimizers = [MPGA, PSO, SA, SGA]\n",
    "dates_sets = {\n",
    "    \"Set 1\": (\"01/04/2003\", \"02/01/2008\"),\n",
    "    \"Set 2\": (\"01/02/2007\", \"01/02/2011\"),\n",
    "    \"Set 3\": (\"29/04/2011\", \"01/08/2015\"),\n",
    "}\n",
    "\n",
    "for optimizer in optimizers:\n",
    "    print(f\"Running process for {optimizer.__name__}\\n\")\n",
    "    for set_name, (start_date, end_date) in dates_sets.items():\n",
    "        print(f\"Running process for {set_name} from {start_date} to {end_date}\")\n",
    "        fw.process(start_date, end_date, optimizer)\n",
    "        # On peut save en json nos résultats pour les réutiliser plus tard\n",
    "        start_date_obj = datetime.strptime(start_date, \"%d/%m/%Y\")\n",
    "        end_date_obj = datetime.strptime(end_date, \"%d/%m/%Y\")\n",
    "        filename = f\"results/{optimizer.__name__}/results_{freq}_{start_date_obj.strftime('%d-%m-%y')} {end_date_obj.strftime('%d-%m-%y')}_{optimizer.__name__}.json\"\n",
    "        # Sauvegarder les résultats\n",
    "        fw.save_results(fw.results, filename)\n",
    "        # On check la sig   nificativité des résultats\n",
    "        fw.analyze()\n",
    "        # On peut visualiser les résultats finaux\n",
    "        fw.visualize()"
   ]
  },
  {
   "cell_type": "markdown",
   "metadata": {},
   "source": [
    "## Run analysis for all Optimizers and all dates"
   ]
  },
  {
   "cell_type": "code",
   "execution_count": null,
   "metadata": {},
   "outputs": [],
   "source": [
    "freq = \"daily\"\n",
    "\n",
    "fw = Framework(freq)\n",
    "optimizers = [MPGA, PSO, SA, SGA]\n",
    "dates_sets = {\n",
    "    \"Set 1\": (\"01/04/2003\", \"02/01/2008\"),\n",
    "    \"Set 2\": (\"01/02/2007\", \"01/02/2011\"),\n",
    "    \"Set 3\": (\"29/04/2011\", \"01/08/2015\"),\n",
    "}\n",
    "\n",
    "for optimizer in optimizers:\n",
    "    print(f\"Running analysis for {optimizer.__name__}\\n\")\n",
    "    for set_name, (start_date, end_date) in dates_sets.items():\n",
    "        print(f\"Running analysis for {set_name} from {start_date} to {end_date}\")\n",
    "        # On peut save en json nos résultats pour les réutiliser plus tard\n",
    "        start_date_obj = datetime.strptime(start_date, \"%d/%m/%Y\")\n",
    "        end_date_obj = datetime.strptime(end_date, \"%d/%m/%Y\")\n",
    "        filename = f\"results/{optimizer.__name__}/results_{freq}_{start_date_obj.strftime('%d-%m-%y')} {end_date_obj.strftime('%d-%m-%y')}_{optimizer.__name__}.json\"\n",
    "\n",
    "        # On check la sig   nificativité des résultats\n",
    "        fw.analyze(filename, show=True)\n",
    "        # On peut visualiser les résultats finaux\n",
    "        fw.visualize()"
   ]
  },
  {
   "cell_type": "markdown",
   "metadata": {},
   "source": [
    "# WEEKLY"
   ]
  },
  {
   "cell_type": "markdown",
   "metadata": {},
   "source": [
    "## Run full process for all Optimizers and all dates"
   ]
  },
  {
   "cell_type": "code",
   "execution_count": null,
   "metadata": {},
   "outputs": [],
   "source": [
    "freq = \"weekly\"\n",
    "\n",
    "fw = Framework(freq)\n",
    "optimizers = [MPGA, PSO, SA, SGA]\n",
    "dates_sets = {\n",
    "    \"Set 1\": (\"01/04/2003\", \"02/01/2008\"),\n",
    "    \"Set 2\": (\"01/02/2007\", \"01/02/2011\"),\n",
    "    \"Set 3\": (\"29/04/2011\", \"01/08/2015\"),\n",
    "}\n",
    "\n",
    "for optimizer in optimizers:\n",
    "    print(f\"Running process for {optimizer.__name__}\\n\")\n",
    "    for set_name, (start_date, end_date) in dates_sets.items():\n",
    "        print(f\"Running process for {set_name} from {start_date} to {end_date}\")\n",
    "        fw.process(start_date, end_date, optimizer)\n",
    "        # On peut save en json nos résultats pour les réutiliser plus tard\n",
    "        start_date_obj = datetime.strptime(start_date, \"%d/%m/%Y\")\n",
    "        end_date_obj = datetime.strptime(end_date, \"%d/%m/%Y\")\n",
    "        filename = f\"results/{optimizer.__name__}/results_{freq}_{start_date_obj.strftime('%d-%m-%y')} {end_date_obj.strftime('%d-%m-%y')}_{optimizer.__name__}.json\"\n",
    "        # Sauvegarder les résultats\n",
    "        fw.save_results(fw.results, filename)\n",
    "        # On check la sig   nificativité des résultats\n",
    "        fw.analyze()\n",
    "        # On peut visualiser les résultats finaux\n",
    "        fw.visualize()"
   ]
  },
  {
   "cell_type": "markdown",
   "metadata": {},
   "source": [
    "## Run analysis for all Optimizers and all dates"
   ]
  },
  {
   "cell_type": "code",
   "execution_count": null,
   "metadata": {},
   "outputs": [],
   "source": [
    "freq = \"weekly\"\n",
    "\n",
    "fw = Framework(freq)\n",
    "optimizers = [MPGA, PSO, SA, SGA]\n",
    "dates_sets = {\n",
    "    \"Set 1\": (\"01/04/2003\", \"02/01/2008\"),\n",
    "    \"Set 2\": (\"01/02/2007\", \"01/02/2011\"),\n",
    "    \"Set 3\": (\"29/04/2011\", \"01/08/2015\"),\n",
    "}\n",
    "\n",
    "for optimizer in optimizers:\n",
    "    print(f\"Running analysis for {optimizer.__name__}\\n\")\n",
    "    for set_name, (start_date, end_date) in dates_sets.items():\n",
    "        print(f\"Running analysis for {set_name} from {start_date} to {end_date}\")\n",
    "        # On peut save en json nos résultats pour les réutiliser plus tard\n",
    "        start_date_obj = datetime.strptime(start_date, \"%d/%m/%Y\")\n",
    "        end_date_obj = datetime.strptime(end_date, \"%d/%m/%Y\")\n",
    "        filename = f\"results/{optimizer.__name__}/results_{freq}_{start_date_obj.strftime('%d-%m-%y')} {end_date_obj.strftime('%d-%m-%y')}_{optimizer.__name__}.json\"\n",
    "\n",
    "        # On check la sig   nificativité des résultats\n",
    "        fw.analyze(filename, show=True)\n",
    "        # On peut visualiser les résultats finaux\n",
    "        fw.visualize()"
   ]
  }
 ],
 "metadata": {
  "kernelspec": {
   "display_name": "base",
   "language": "python",
   "name": "python3"
  },
  "language_info": {
   "codemirror_mode": {
    "name": "ipython",
    "version": 3
   },
   "file_extension": ".py",
   "mimetype": "text/x-python",
   "name": "python",
   "nbconvert_exporter": "python",
   "pygments_lexer": "ipython3",
   "version": "3.12.3"
  }
 },
 "nbformat": 4,
 "nbformat_minor": 2
}
